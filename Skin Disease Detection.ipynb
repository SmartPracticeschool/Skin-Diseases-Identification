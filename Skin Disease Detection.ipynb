{
 "cells": [
  {
   "cell_type": "markdown",
   "metadata": {},
   "source": [
    "# SKIN DISEASE IDENTIFICATION USING IMAGE ANALYSIS"
   ]
  },
  {
   "cell_type": "code",
   "execution_count": 1,
   "metadata": {},
   "outputs": [
    {
     "name": "stderr",
     "output_type": "stream",
     "text": [
      "Using TensorFlow backend.\n"
     ]
    }
   ],
   "source": [
    "from keras.models import Sequential\n",
    "from keras.layers import Dense\n",
    "from keras.layers import Convolution2D\n",
    "from keras.layers import MaxPooling2D\n",
    "from keras.layers import Flatten"
   ]
  },
  {
   "cell_type": "code",
   "execution_count": 2,
   "metadata": {},
   "outputs": [],
   "source": [
    "model = Sequential()"
   ]
  },
  {
   "cell_type": "markdown",
   "metadata": {},
   "source": [
    "Adding Convolutional layers"
   ]
  },
  {
   "cell_type": "code",
   "execution_count": 3,
   "metadata": {},
   "outputs": [],
   "source": [
    "model.add(Convolution2D(32,(3,3),input_shape = (64,64,3), activation = 'relu'))"
   ]
  },
  {
   "cell_type": "code",
   "execution_count": 4,
   "metadata": {},
   "outputs": [],
   "source": [
    "model.add(Convolution2D(32,(3,3),input_shape = (64,64,3), activation = 'relu'))"
   ]
  },
  {
   "cell_type": "markdown",
   "metadata": {},
   "source": [
    "Adding Maxpooling layer"
   ]
  },
  {
   "cell_type": "code",
   "execution_count": 5,
   "metadata": {},
   "outputs": [
    {
     "name": "stdout",
     "output_type": "stream",
     "text": [
      "WARNING:tensorflow:From C:\\Users\\Disha chugh\\Anaconda3\\lib\\site-packages\\keras\\backend\\tensorflow_backend.py:4070: The name tf.nn.max_pool is deprecated. Please use tf.nn.max_pool2d instead.\n",
      "\n"
     ]
    }
   ],
   "source": [
    "model.add(MaxPooling2D(pool_size = (2,2)))"
   ]
  },
  {
   "cell_type": "markdown",
   "metadata": {},
   "source": [
    "Add flattening layer"
   ]
  },
  {
   "cell_type": "code",
   "execution_count": 6,
   "metadata": {},
   "outputs": [],
   "source": [
    "model.add(Flatten())"
   ]
  },
  {
   "cell_type": "code",
   "execution_count": 7,
   "metadata": {},
   "outputs": [
    {
     "name": "stdout",
     "output_type": "stream",
     "text": [
      "Model: \"sequential_1\"\n",
      "_________________________________________________________________\n",
      "Layer (type)                 Output Shape              Param #   \n",
      "=================================================================\n",
      "conv2d_1 (Conv2D)            (None, 62, 62, 32)        896       \n",
      "_________________________________________________________________\n",
      "conv2d_2 (Conv2D)            (None, 60, 60, 32)        9248      \n",
      "_________________________________________________________________\n",
      "max_pooling2d_1 (MaxPooling2 (None, 30, 30, 32)        0         \n",
      "_________________________________________________________________\n",
      "flatten_1 (Flatten)          (None, 28800)             0         \n",
      "=================================================================\n",
      "Total params: 10,144\n",
      "Trainable params: 10,144\n",
      "Non-trainable params: 0\n",
      "_________________________________________________________________\n"
     ]
    }
   ],
   "source": [
    "model.summary()"
   ]
  },
  {
   "cell_type": "markdown",
   "metadata": {},
   "source": [
    "Adding hidden layers"
   ]
  },
  {
   "cell_type": "code",
   "execution_count": 8,
   "metadata": {},
   "outputs": [
    {
     "name": "stderr",
     "output_type": "stream",
     "text": [
      "C:\\Users\\Disha chugh\\Anaconda3\\lib\\site-packages\\ipykernel_launcher.py:1: UserWarning: Update your `Dense` call to the Keras 2 API: `Dense(activation=\"relu\", units=128, kernel_initializer=\"uniform\")`\n",
      "  \"\"\"Entry point for launching an IPython kernel.\n"
     ]
    }
   ],
   "source": [
    "model.add(Dense(output_dim = 128, init = 'uniform', activation = 'relu'))"
   ]
  },
  {
   "cell_type": "code",
   "execution_count": 9,
   "metadata": {},
   "outputs": [
    {
     "name": "stderr",
     "output_type": "stream",
     "text": [
      "C:\\Users\\Disha chugh\\Anaconda3\\lib\\site-packages\\ipykernel_launcher.py:1: UserWarning: Update your `Dense` call to the Keras 2 API: `Dense(activation=\"relu\", units=128, kernel_initializer=\"uniform\")`\n",
      "  \"\"\"Entry point for launching an IPython kernel.\n"
     ]
    }
   ],
   "source": [
    "model.add(Dense(output_dim = 128, init = 'uniform', activation = 'relu'))"
   ]
  },
  {
   "cell_type": "code",
   "execution_count": 10,
   "metadata": {},
   "outputs": [
    {
     "name": "stderr",
     "output_type": "stream",
     "text": [
      "C:\\Users\\Disha chugh\\Anaconda3\\lib\\site-packages\\ipykernel_launcher.py:1: UserWarning: Update your `Dense` call to the Keras 2 API: `Dense(activation=\"relu\", units=64, kernel_initializer=\"uniform\")`\n",
      "  \"\"\"Entry point for launching an IPython kernel.\n"
     ]
    }
   ],
   "source": [
    "model.add(Dense(output_dim = 64, init = 'uniform', activation = 'relu'))"
   ]
  },
  {
   "cell_type": "code",
   "execution_count": 11,
   "metadata": {},
   "outputs": [
    {
     "name": "stderr",
     "output_type": "stream",
     "text": [
      "C:\\Users\\Disha chugh\\Anaconda3\\lib\\site-packages\\ipykernel_launcher.py:1: UserWarning: Update your `Dense` call to the Keras 2 API: `Dense(activation=\"relu\", units=64, kernel_initializer=\"uniform\")`\n",
      "  \"\"\"Entry point for launching an IPython kernel.\n"
     ]
    }
   ],
   "source": [
    "model.add(Dense(output_dim = 64, init = 'uniform', activation = 'relu'))"
   ]
  },
  {
   "cell_type": "markdown",
   "metadata": {},
   "source": [
    "Adding Output layer"
   ]
  },
  {
   "cell_type": "code",
   "execution_count": 12,
   "metadata": {},
   "outputs": [
    {
     "name": "stderr",
     "output_type": "stream",
     "text": [
      "C:\\Users\\Disha chugh\\Anaconda3\\lib\\site-packages\\ipykernel_launcher.py:1: UserWarning: Update your `Dense` call to the Keras 2 API: `Dense(activation=\"softmax\", units=5, kernel_initializer=\"uniform\")`\n",
      "  \"\"\"Entry point for launching an IPython kernel.\n"
     ]
    }
   ],
   "source": [
    "model.add(Dense(output_dim = 5, init = 'uniform', activation = 'softmax')) "
   ]
  },
  {
   "cell_type": "markdown",
   "metadata": {},
   "source": [
    "Preprocessing the data"
   ]
  },
  {
   "cell_type": "code",
   "execution_count": 13,
   "metadata": {},
   "outputs": [],
   "source": [
    "from keras.preprocessing.image import ImageDataGenerator"
   ]
  },
  {
   "cell_type": "code",
   "execution_count": 14,
   "metadata": {},
   "outputs": [],
   "source": [
    "train_datagen = ImageDataGenerator(rescale = 1./255, shear_range = 0.2, zoom_range = 0.2, height_shift_range = 0.2, width_shift_range = 0.2, horizontal_flip = True, vertical_flip = True)\n",
    "test_datagen = ImageDataGenerator(rescale = 1)"
   ]
  },
  {
   "cell_type": "markdown",
   "metadata": {},
   "source": [
    "Loading the train and test data"
   ]
  },
  {
   "cell_type": "code",
   "execution_count": 15,
   "metadata": {},
   "outputs": [
    {
     "name": "stdout",
     "output_type": "stream",
     "text": [
      "Found 2205 images belonging to 5 classes.\n",
      "Found 550 images belonging to 5 classes.\n"
     ]
    }
   ],
   "source": [
    "x_train = train_datagen.flow_from_directory(r'C:\\Users\\Disha chugh\\Downloads\\Skin Diseases\\Skin Diseases\\train', target_size = (64, 64), batch_size = 32, class_mode = 'categorical')\n",
    "x_test = test_datagen.flow_from_directory(r'C:\\Users\\Disha chugh\\Downloads\\Skin Diseases\\Skin Diseases\\test', target_size = (64, 64), batch_size = 32, class_mode = 'categorical')"
   ]
  },
  {
   "cell_type": "code",
   "execution_count": 16,
   "metadata": {},
   "outputs": [
    {
     "data": {
      "text/plain": [
       "{'Acne': 0, 'Melanoma': 1, 'Psoriasis': 2, 'Rosacea': 3, 'Vitiligo': 4}"
      ]
     },
     "execution_count": 16,
     "metadata": {},
     "output_type": "execute_result"
    }
   ],
   "source": [
    "x_train.class_indices"
   ]
  },
  {
   "cell_type": "code",
   "execution_count": 17,
   "metadata": {},
   "outputs": [],
   "source": [
    "model.compile(loss = 'categorical_crossentropy', optimizer = 'adam', metrics = ['accuracy'])"
   ]
  },
  {
   "cell_type": "markdown",
   "metadata": {},
   "source": [
    "Fitting the data"
   ]
  },
  {
   "cell_type": "code",
   "execution_count": 18,
   "metadata": {},
   "outputs": [
    {
     "name": "stdout",
     "output_type": "stream",
     "text": [
      "WARNING:tensorflow:From C:\\Users\\Disha chugh\\Anaconda3\\lib\\site-packages\\keras\\backend\\tensorflow_backend.py:422: The name tf.global_variables is deprecated. Please use tf.compat.v1.global_variables instead.\n",
      "\n",
      "Epoch 1/150\n",
      "100/100 [==============================] - 38s 375ms/step - loss: 1.5995 - accuracy: 0.2345 - val_loss: 82.5564 - val_accuracy: 0.2477\n",
      "Epoch 2/150\n",
      "100/100 [==============================] - 31s 308ms/step - loss: 1.5302 - accuracy: 0.3122 - val_loss: 234.9463 - val_accuracy: 0.2819\n",
      "Epoch 3/150\n",
      "100/100 [==============================] - 24s 239ms/step - loss: 1.5148 - accuracy: 0.3209 - val_loss: 99.2507 - val_accuracy: 0.3349\n",
      "Epoch 4/150\n",
      "100/100 [==============================] - 24s 241ms/step - loss: 1.4837 - accuracy: 0.3303 - val_loss: 122.6243 - val_accuracy: 0.3164\n",
      "Epoch 5/150\n",
      "100/100 [==============================] - 24s 244ms/step - loss: 1.4619 - accuracy: 0.3538 - val_loss: 144.8944 - val_accuracy: 0.3411\n",
      "Epoch 6/150\n",
      "100/100 [==============================] - 24s 242ms/step - loss: 1.4443 - accuracy: 0.3704 - val_loss: 52.3529 - val_accuracy: 0.3488\n",
      "Epoch 7/150\n",
      "100/100 [==============================] - 24s 245ms/step - loss: 1.4310 - accuracy: 0.3775 - val_loss: 183.1259 - val_accuracy: 0.2982\n",
      "Epoch 8/150\n",
      "100/100 [==============================] - 25s 245ms/step - loss: 1.4179 - accuracy: 0.3835 - val_loss: 97.2023 - val_accuracy: 0.3677\n",
      "Epoch 9/150\n",
      "100/100 [==============================] - 25s 246ms/step - loss: 1.4208 - accuracy: 0.3951 - val_loss: 132.3057 - val_accuracy: 0.3787\n",
      "Epoch 10/150\n",
      "100/100 [==============================] - 25s 247ms/step - loss: 1.3747 - accuracy: 0.3972 - val_loss: 315.9418 - val_accuracy: 0.3290\n",
      "Epoch 11/150\n",
      "100/100 [==============================] - 25s 248ms/step - loss: 1.4119 - accuracy: 0.3951 - val_loss: 82.1398 - val_accuracy: 0.3705\n",
      "Epoch 12/150\n",
      "100/100 [==============================] - 26s 259ms/step - loss: 1.3977 - accuracy: 0.3885 - val_loss: 132.5653 - val_accuracy: 0.3672\n",
      "Epoch 13/150\n",
      "100/100 [==============================] - 26s 258ms/step - loss: 1.3721 - accuracy: 0.4036 - val_loss: 115.9358 - val_accuracy: 0.3942\n",
      "Epoch 14/150\n",
      "100/100 [==============================] - 27s 268ms/step - loss: 1.3403 - accuracy: 0.4238 - val_loss: 144.6438 - val_accuracy: 0.4362\n",
      "Epoch 15/150\n",
      "100/100 [==============================] - 27s 269ms/step - loss: 1.3819 - accuracy: 0.3935 - val_loss: 94.8373 - val_accuracy: 0.3369\n",
      "Epoch 16/150\n",
      "100/100 [==============================] - 27s 271ms/step - loss: 1.3326 - accuracy: 0.4265 - val_loss: 105.1316 - val_accuracy: 0.3954\n",
      "Epoch 17/150\n",
      "100/100 [==============================] - 27s 266ms/step - loss: 1.3168 - accuracy: 0.4273 - val_loss: 139.6467 - val_accuracy: 0.3633\n",
      "Epoch 18/150\n",
      "100/100 [==============================] - 27s 269ms/step - loss: 1.3213 - accuracy: 0.4414 - val_loss: 303.1047 - val_accuracy: 0.3075\n",
      "Epoch 19/150\n",
      "100/100 [==============================] - 27s 268ms/step - loss: 1.2878 - accuracy: 0.4543 - val_loss: 226.2250 - val_accuracy: 0.3122\n",
      "Epoch 20/150\n",
      "100/100 [==============================] - 26s 265ms/step - loss: 1.2891 - accuracy: 0.4564 - val_loss: 60.8469 - val_accuracy: 0.3316\n",
      "Epoch 21/150\n",
      "100/100 [==============================] - 27s 274ms/step - loss: 1.2434 - accuracy: 0.4815 - val_loss: 171.2879 - val_accuracy: 0.3958\n",
      "Epoch 22/150\n",
      "100/100 [==============================] - 27s 267ms/step - loss: 1.2754 - accuracy: 0.4779 - val_loss: 316.3256 - val_accuracy: 0.3373\n",
      "Epoch 23/150\n",
      "100/100 [==============================] - 27s 272ms/step - loss: 1.2317 - accuracy: 0.4859 - val_loss: 104.5011 - val_accuracy: 0.3798\n",
      "Epoch 24/150\n",
      "100/100 [==============================] - 27s 268ms/step - loss: 1.2390 - accuracy: 0.4830 - val_loss: 166.6264 - val_accuracy: 0.4158\n",
      "Epoch 25/150\n",
      "100/100 [==============================] - 27s 273ms/step - loss: 1.2330 - accuracy: 0.4939 - val_loss: 239.9092 - val_accuracy: 0.3591\n",
      "Epoch 26/150\n",
      "100/100 [==============================] - 27s 267ms/step - loss: 1.2037 - accuracy: 0.5157 - val_loss: 228.8699 - val_accuracy: 0.3091\n",
      "Epoch 27/150\n",
      "100/100 [==============================] - 27s 269ms/step - loss: 1.2043 - accuracy: 0.5064 - val_loss: 218.6323 - val_accuracy: 0.3643\n",
      "Epoch 28/150\n",
      "100/100 [==============================] - 27s 268ms/step - loss: 1.2010 - accuracy: 0.5100 - val_loss: 226.3058 - val_accuracy: 0.3666\n",
      "Epoch 29/150\n",
      "100/100 [==============================] - 27s 267ms/step - loss: 1.1882 - accuracy: 0.5099 - val_loss: 108.0614 - val_accuracy: 0.3875\n",
      "Epoch 30/150\n",
      "100/100 [==============================] - 27s 269ms/step - loss: 1.1732 - accuracy: 0.5332 - val_loss: 236.5520 - val_accuracy: 0.3567\n",
      "Epoch 31/150\n",
      "100/100 [==============================] - 27s 267ms/step - loss: 1.1763 - accuracy: 0.5202 - val_loss: 291.9324 - val_accuracy: 0.4076\n",
      "Epoch 32/150\n",
      "100/100 [==============================] - 27s 272ms/step - loss: 1.1675 - accuracy: 0.5202 - val_loss: 117.9207 - val_accuracy: 0.4064\n",
      "Epoch 33/150\n",
      "100/100 [==============================] - 27s 267ms/step - loss: 1.1495 - accuracy: 0.5420 - val_loss: 248.3601 - val_accuracy: 0.3266\n",
      "Epoch 34/150\n",
      "100/100 [==============================] - 27s 274ms/step - loss: 1.1379 - accuracy: 0.5499 - val_loss: 318.8143 - val_accuracy: 0.2945\n",
      "Epoch 35/150\n",
      "100/100 [==============================] - 27s 267ms/step - loss: 1.1243 - accuracy: 0.5523 - val_loss: 239.4887 - val_accuracy: 0.3080\n",
      "Epoch 36/150\n",
      "100/100 [==============================] - 27s 271ms/step - loss: 1.1295 - accuracy: 0.5511 - val_loss: 217.8113 - val_accuracy: 0.3729\n",
      "Epoch 37/150\n",
      "100/100 [==============================] - 27s 268ms/step - loss: 1.1287 - accuracy: 0.5427 - val_loss: 284.8965 - val_accuracy: 0.3313\n",
      "Epoch 38/150\n",
      "100/100 [==============================] - 27s 268ms/step - loss: 1.1080 - accuracy: 0.5432 - val_loss: 411.3254 - val_accuracy: 0.3860\n",
      "Epoch 39/150\n",
      "100/100 [==============================] - 27s 272ms/step - loss: 1.1372 - accuracy: 0.5376 - val_loss: 282.2501 - val_accuracy: 0.2946\n",
      "Epoch 40/150\n",
      "100/100 [==============================] - 27s 269ms/step - loss: 1.0808 - accuracy: 0.5696 - val_loss: 151.9919 - val_accuracy: 0.4331\n",
      "Epoch 41/150\n",
      "100/100 [==============================] - 28s 281ms/step - loss: 1.0863 - accuracy: 0.5708 - val_loss: 202.0645 - val_accuracy: 0.3824\n",
      "Epoch 42/150\n",
      "100/100 [==============================] - 27s 267ms/step - loss: 1.0874 - accuracy: 0.5665 - val_loss: 105.3856 - val_accuracy: 0.3572\n",
      "Epoch 43/150\n",
      "100/100 [==============================] - 28s 276ms/step - loss: 1.0823 - accuracy: 0.5674 - val_loss: 219.8605 - val_accuracy: 0.4190\n",
      "Epoch 44/150\n",
      "100/100 [==============================] - 27s 269ms/step - loss: 1.0905 - accuracy: 0.5624 - val_loss: 76.4578 - val_accuracy: 0.3504\n",
      "Epoch 45/150\n",
      "100/100 [==============================] - 28s 277ms/step - loss: 1.0606 - accuracy: 0.5723 - val_loss: 396.6984 - val_accuracy: 0.3003\n",
      "Epoch 46/150\n",
      "100/100 [==============================] - 27s 269ms/step - loss: 1.0479 - accuracy: 0.5840 - val_loss: 54.4395 - val_accuracy: 0.3734\n",
      "Epoch 47/150\n",
      "100/100 [==============================] - 27s 273ms/step - loss: 1.0318 - accuracy: 0.5880 - val_loss: 173.8849 - val_accuracy: 0.4051\n",
      "Epoch 48/150\n",
      "100/100 [==============================] - 27s 265ms/step - loss: 1.0477 - accuracy: 0.5870 - val_loss: 366.4874 - val_accuracy: 0.3353\n",
      "Epoch 49/150\n",
      "100/100 [==============================] - 27s 265ms/step - loss: 1.0365 - accuracy: 0.5915 - val_loss: 397.5386 - val_accuracy: 0.3400\n",
      "Epoch 50/150\n",
      "100/100 [==============================] - 27s 273ms/step - loss: 1.0416 - accuracy: 0.5833 - val_loss: 501.6743 - val_accuracy: 0.2835\n",
      "Epoch 51/150\n",
      "100/100 [==============================] - 27s 265ms/step - loss: 1.0354 - accuracy: 0.5984 - val_loss: 464.0773 - val_accuracy: 0.3896\n",
      "Epoch 52/150\n",
      "100/100 [==============================] - 27s 273ms/step - loss: 1.0302 - accuracy: 0.5912 - val_loss: 167.1199 - val_accuracy: 0.4367\n",
      "Epoch 53/150\n",
      "100/100 [==============================] - 27s 270ms/step - loss: 1.0187 - accuracy: 0.5971 - val_loss: 368.4377 - val_accuracy: 0.3442\n",
      "Epoch 54/150\n",
      "100/100 [==============================] - 29s 286ms/step - loss: 0.9981 - accuracy: 0.5999 - val_loss: 499.2166 - val_accuracy: 0.3598\n"
     ]
    },
    {
     "name": "stdout",
     "output_type": "stream",
     "text": [
      "Epoch 55/150\n",
      "100/100 [==============================] - 27s 274ms/step - loss: 1.0071 - accuracy: 0.6065 - val_loss: 491.4591 - val_accuracy: 0.3431\n",
      "Epoch 56/150\n",
      "100/100 [==============================] - 27s 274ms/step - loss: 0.9912 - accuracy: 0.6158 - val_loss: 375.5676 - val_accuracy: 0.4163\n",
      "Epoch 57/150\n",
      "100/100 [==============================] - 27s 273ms/step - loss: 0.9983 - accuracy: 0.5980 - val_loss: 286.9738 - val_accuracy: 0.3927\n",
      "Epoch 58/150\n",
      "100/100 [==============================] - 27s 268ms/step - loss: 0.9769 - accuracy: 0.6187 - val_loss: 243.7247 - val_accuracy: 0.3530\n",
      "Epoch 59/150\n",
      "100/100 [==============================] - 27s 268ms/step - loss: 0.9692 - accuracy: 0.6162 - val_loss: 399.1396 - val_accuracy: 0.3720\n",
      "Epoch 60/150\n",
      "100/100 [==============================] - 26s 264ms/step - loss: 0.9577 - accuracy: 0.6284 - val_loss: 487.9777 - val_accuracy: 0.3834\n",
      "Epoch 61/150\n",
      "100/100 [==============================] - 29s 286ms/step - loss: 0.9663 - accuracy: 0.6259 - val_loss: 278.8732 - val_accuracy: 0.4066\n",
      "Epoch 62/150\n",
      "100/100 [==============================] - 27s 272ms/step - loss: 0.9584 - accuracy: 0.6277 - val_loss: 333.2161 - val_accuracy: 0.4498\n",
      "Epoch 63/150\n",
      "100/100 [==============================] - 30s 299ms/step - loss: 0.9611 - accuracy: 0.6246 - val_loss: 357.2543 - val_accuracy: 0.3922\n",
      "Epoch 64/150\n",
      "100/100 [==============================] - 31s 306ms/step - loss: 0.9579 - accuracy: 0.6259 - val_loss: 301.7750 - val_accuracy: 0.3870\n",
      "Epoch 65/150\n",
      "100/100 [==============================] - 29s 289ms/step - loss: 0.9618 - accuracy: 0.6224 - val_loss: 267.5338 - val_accuracy: 0.4020\n",
      "Epoch 66/150\n",
      "100/100 [==============================] - 27s 267ms/step - loss: 0.9233 - accuracy: 0.6397 - val_loss: 449.8376 - val_accuracy: 0.3860\n",
      "Epoch 67/150\n",
      "100/100 [==============================] - 27s 272ms/step - loss: 0.9427 - accuracy: 0.6325 - val_loss: 317.8710 - val_accuracy: 0.4329\n",
      "Epoch 68/150\n",
      "100/100 [==============================] - 27s 270ms/step - loss: 0.9397 - accuracy: 0.6303 - val_loss: 635.7745 - val_accuracy: 0.3441\n",
      "Epoch 69/150\n",
      "100/100 [==============================] - 27s 268ms/step - loss: 0.9170 - accuracy: 0.6393 - val_loss: 495.7573 - val_accuracy: 0.3849\n",
      "Epoch 70/150\n",
      "100/100 [==============================] - 28s 285ms/step - loss: 0.9252 - accuracy: 0.6406 - val_loss: 259.2852 - val_accuracy: 0.4038\n",
      "Epoch 71/150\n",
      "100/100 [==============================] - 27s 274ms/step - loss: 0.9200 - accuracy: 0.6415 - val_loss: 319.1451 - val_accuracy: 0.3916\n",
      "Epoch 72/150\n",
      "100/100 [==============================] - 27s 271ms/step - loss: 0.9086 - accuracy: 0.6472 - val_loss: 273.9969 - val_accuracy: 0.4351\n",
      "Epoch 73/150\n",
      "100/100 [==============================] - 27s 267ms/step - loss: 0.8962 - accuracy: 0.6465 - val_loss: 323.2801 - val_accuracy: 0.4216\n",
      "Epoch 74/150\n",
      "100/100 [==============================] - 27s 271ms/step - loss: 0.9292 - accuracy: 0.6371 - val_loss: 251.4332 - val_accuracy: 0.4100\n",
      "Epoch 75/150\n",
      "100/100 [==============================] - 27s 267ms/step - loss: 0.9023 - accuracy: 0.6468 - val_loss: 324.4347 - val_accuracy: 0.3122\n",
      "Epoch 76/150\n",
      "100/100 [==============================] - 27s 272ms/step - loss: 0.8876 - accuracy: 0.6393 - val_loss: 370.0663 - val_accuracy: 0.4064\n",
      "Epoch 77/150\n",
      "100/100 [==============================] - 26s 263ms/step - loss: 0.9135 - accuracy: 0.6372 - val_loss: 308.5378 - val_accuracy: 0.4329\n",
      "Epoch 78/150\n",
      "100/100 [==============================] - 28s 277ms/step - loss: 0.8915 - accuracy: 0.6509 - val_loss: 78.7260 - val_accuracy: 0.3572\n",
      "Epoch 79/150\n",
      "100/100 [==============================] - 27s 268ms/step - loss: 0.8752 - accuracy: 0.6562 - val_loss: 390.7467 - val_accuracy: 0.3927\n",
      "Epoch 80/150\n",
      "100/100 [==============================] - 27s 266ms/step - loss: 0.8634 - accuracy: 0.6662 - val_loss: 45.8768 - val_accuracy: 0.3713\n",
      "Epoch 81/150\n",
      "100/100 [==============================] - 28s 276ms/step - loss: 0.8807 - accuracy: 0.6641 - val_loss: 427.6797 - val_accuracy: 0.3612\n",
      "Epoch 82/150\n",
      "100/100 [==============================] - 29s 289ms/step - loss: 0.8780 - accuracy: 0.6597 - val_loss: 508.7108 - val_accuracy: 0.4079\n",
      "Epoch 83/150\n",
      "100/100 [==============================] - 30s 300ms/step - loss: 0.8499 - accuracy: 0.6750 - val_loss: 385.4651 - val_accuracy: 0.4061\n",
      "Epoch 84/150\n",
      "100/100 [==============================] - 28s 284ms/step - loss: 0.8738 - accuracy: 0.6675 - val_loss: 228.7759 - val_accuracy: 0.4529\n",
      "Epoch 85/150\n",
      "100/100 [==============================] - 29s 294ms/step - loss: 0.8487 - accuracy: 0.6713 - val_loss: 315.9545 - val_accuracy: 0.4092\n",
      "Epoch 86/150\n",
      "100/100 [==============================] - 28s 283ms/step - loss: 0.8475 - accuracy: 0.6694 - val_loss: 241.6564 - val_accuracy: 0.4315\n",
      "Epoch 87/150\n",
      "100/100 [==============================] - 30s 303ms/step - loss: 0.8493 - accuracy: 0.6716 - val_loss: 298.6672 - val_accuracy: 0.3983\n",
      "Epoch 88/150\n",
      "100/100 [==============================] - 28s 281ms/step - loss: 0.8632 - accuracy: 0.6678 - val_loss: 403.8768 - val_accuracy: 0.4106\n",
      "Epoch 89/150\n",
      "100/100 [==============================] - 28s 283ms/step - loss: 0.8419 - accuracy: 0.6703 - val_loss: 360.8766 - val_accuracy: 0.4618\n",
      "Epoch 90/150\n",
      "100/100 [==============================] - 31s 314ms/step - loss: 0.8289 - accuracy: 0.6828 - val_loss: 593.0493 - val_accuracy: 0.3734\n",
      "Epoch 91/150\n",
      "100/100 [==============================] - 29s 290ms/step - loss: 0.8083 - accuracy: 0.6869 - val_loss: 486.5485 - val_accuracy: 0.4195\n",
      "Epoch 92/150\n",
      "100/100 [==============================] - 32s 316ms/step - loss: 0.8166 - accuracy: 0.6838 - val_loss: 259.7984 - val_accuracy: 0.4399\n",
      "Epoch 93/150\n",
      "100/100 [==============================] - 28s 281ms/step - loss: 0.8183 - accuracy: 0.6822 - val_loss: 286.2491 - val_accuracy: 0.4107\n",
      "Epoch 94/150\n",
      "100/100 [==============================] - 29s 292ms/step - loss: 0.8219 - accuracy: 0.6866 - val_loss: 411.4275 - val_accuracy: 0.3834\n",
      "Epoch 95/150\n",
      "100/100 [==============================] - 35s 346ms/step - loss: 0.7885 - accuracy: 0.6932 - val_loss: 466.8737 - val_accuracy: 0.4272\n",
      "Epoch 96/150\n",
      "100/100 [==============================] - 36s 358ms/step - loss: 0.8063 - accuracy: 0.6766 - val_loss: 382.8779 - val_accuracy: 0.3745\n",
      "Epoch 97/150\n",
      "100/100 [==============================] - 35s 354ms/step - loss: 0.8307 - accuracy: 0.6759 - val_loss: 368.3451 - val_accuracy: 0.4051\n",
      "Epoch 98/150\n",
      "100/100 [==============================] - 36s 359ms/step - loss: 0.7808 - accuracy: 0.6910 - val_loss: 386.7312 - val_accuracy: 0.4200\n",
      "Epoch 99/150\n",
      "100/100 [==============================] - 35s 353ms/step - loss: 0.7953 - accuracy: 0.6860 - val_loss: 344.8339 - val_accuracy: 0.4396\n",
      "Epoch 100/150\n",
      "100/100 [==============================] - 35s 353ms/step - loss: 0.7867 - accuracy: 0.6969 - val_loss: 62.9710 - val_accuracy: 0.4289\n",
      "Epoch 101/150\n",
      "100/100 [==============================] - 37s 367ms/step - loss: 0.7920 - accuracy: 0.6985 - val_loss: 533.0151 - val_accuracy: 0.4066\n",
      "Epoch 102/150\n",
      "100/100 [==============================] - 36s 356ms/step - loss: 0.7672 - accuracy: 0.6972 - val_loss: 317.9350 - val_accuracy: 0.4195\n",
      "Epoch 103/150\n",
      "100/100 [==============================] - 37s 366ms/step - loss: 0.7810 - accuracy: 0.6966 - val_loss: 351.3518 - val_accuracy: 0.4082\n",
      "Epoch 104/150\n",
      "100/100 [==============================] - 36s 357ms/step - loss: 0.7927 - accuracy: 0.6941 - val_loss: 992.7529 - val_accuracy: 0.3729\n",
      "Epoch 105/150\n",
      "100/100 [==============================] - 36s 361ms/step - loss: 0.7745 - accuracy: 0.7104 - val_loss: 657.4686 - val_accuracy: 0.3344\n",
      "Epoch 106/150\n",
      "100/100 [==============================] - 36s 358ms/step - loss: 0.7646 - accuracy: 0.7088 - val_loss: 96.4049 - val_accuracy: 0.4388\n",
      "Epoch 107/150\n",
      "100/100 [==============================] - 36s 357ms/step - loss: 0.7558 - accuracy: 0.7085 - val_loss: 677.8838 - val_accuracy: 0.4267\n",
      "Epoch 108/150\n",
      "100/100 [==============================] - 35s 353ms/step - loss: 0.7790 - accuracy: 0.6994 - val_loss: 234.4617 - val_accuracy: 0.4064\n",
      "Epoch 109/150\n",
      "100/100 [==============================] - 35s 346ms/step - loss: 0.7539 - accuracy: 0.7088 - val_loss: 355.7791 - val_accuracy: 0.4556\n"
     ]
    },
    {
     "name": "stdout",
     "output_type": "stream",
     "text": [
      "Epoch 110/150\n",
      "100/100 [==============================] - 37s 369ms/step - loss: 0.7458 - accuracy: 0.7185 - val_loss: 160.0192 - val_accuracy: 0.4095\n",
      "Epoch 111/150\n",
      "100/100 [==============================] - 34s 345ms/step - loss: 0.7343 - accuracy: 0.7185 - val_loss: 421.5884 - val_accuracy: 0.4365\n",
      "Epoch 112/150\n",
      "100/100 [==============================] - 36s 361ms/step - loss: 0.7737 - accuracy: 0.7082 - val_loss: 528.7675 - val_accuracy: 0.4236\n",
      "Epoch 113/150\n",
      "100/100 [==============================] - 35s 351ms/step - loss: 0.7952 - accuracy: 0.6872 - val_loss: 355.2263 - val_accuracy: 0.3725\n",
      "Epoch 114/150\n",
      "100/100 [==============================] - 36s 361ms/step - loss: 0.7392 - accuracy: 0.7157 - val_loss: 341.2652 - val_accuracy: 0.4278\n",
      "Epoch 115/150\n",
      "100/100 [==============================] - 35s 351ms/step - loss: 0.7649 - accuracy: 0.7007 - val_loss: 691.3419 - val_accuracy: 0.4190\n",
      "Epoch 116/150\n",
      "100/100 [==============================] - 37s 374ms/step - loss: 0.7309 - accuracy: 0.7201 - val_loss: 491.1510 - val_accuracy: 0.3577\n",
      "Epoch 117/150\n",
      "100/100 [==============================] - 37s 366ms/step - loss: 0.7697 - accuracy: 0.6997 - val_loss: 711.1910 - val_accuracy: 0.3467\n",
      "Epoch 118/150\n",
      "100/100 [==============================] - 36s 362ms/step - loss: 0.7623 - accuracy: 0.6994 - val_loss: 442.8451 - val_accuracy: 0.4215\n",
      "Epoch 119/150\n",
      "100/100 [==============================] - 36s 365ms/step - loss: 0.7467 - accuracy: 0.7142 - val_loss: 366.4385 - val_accuracy: 0.4530\n",
      "Epoch 120/150\n",
      "100/100 [==============================] - 36s 365ms/step - loss: 0.7243 - accuracy: 0.7194 - val_loss: 782.1324 - val_accuracy: 0.4168\n",
      "Epoch 121/150\n",
      "100/100 [==============================] - 38s 376ms/step - loss: 0.7306 - accuracy: 0.7157 - val_loss: 775.0734 - val_accuracy: 0.3746\n",
      "Epoch 122/150\n",
      "100/100 [==============================] - 36s 361ms/step - loss: 0.7187 - accuracy: 0.7223 - val_loss: 299.6384 - val_accuracy: 0.4393\n",
      "Epoch 123/150\n",
      "100/100 [==============================] - 37s 372ms/step - loss: 0.7122 - accuracy: 0.7210 - val_loss: 258.3897 - val_accuracy: 0.4164\n",
      "Epoch 124/150\n",
      "100/100 [==============================] - 37s 365ms/step - loss: 0.7439 - accuracy: 0.7116 - val_loss: 494.7040 - val_accuracy: 0.4095\n",
      "Epoch 125/150\n",
      "100/100 [==============================] - 37s 367ms/step - loss: 0.7014 - accuracy: 0.7229 - val_loss: 352.8871 - val_accuracy: 0.4556\n",
      "Epoch 126/150\n",
      "100/100 [==============================] - 36s 360ms/step - loss: 0.7186 - accuracy: 0.7223 - val_loss: 660.2407 - val_accuracy: 0.4357\n",
      "Epoch 127/150\n",
      "100/100 [==============================] - 36s 362ms/step - loss: 0.7403 - accuracy: 0.7085 - val_loss: 540.7352 - val_accuracy: 0.4479\n",
      "Epoch 128/150\n",
      "100/100 [==============================] - 36s 357ms/step - loss: 0.6963 - accuracy: 0.7482 - val_loss: 110.9873 - val_accuracy: 0.4310\n",
      "Epoch 129/150\n",
      "100/100 [==============================] - 35s 353ms/step - loss: 0.7380 - accuracy: 0.7123 - val_loss: 491.6161 - val_accuracy: 0.4128\n",
      "Epoch 130/150\n",
      "100/100 [==============================] - 37s 374ms/step - loss: 0.6862 - accuracy: 0.7304 - val_loss: 330.2656 - val_accuracy: 0.4697\n",
      "Epoch 131/150\n",
      "100/100 [==============================] - 36s 357ms/step - loss: 0.6992 - accuracy: 0.7345 - val_loss: 417.3328 - val_accuracy: 0.4025\n",
      "Epoch 132/150\n",
      "100/100 [==============================] - 37s 368ms/step - loss: 0.6920 - accuracy: 0.7294 - val_loss: 650.7711 - val_accuracy: 0.4137\n",
      "Epoch 133/150\n",
      "100/100 [==============================] - 35s 355ms/step - loss: 0.7096 - accuracy: 0.7239 - val_loss: 789.1687 - val_accuracy: 0.4221\n",
      "Epoch 134/150\n",
      "100/100 [==============================] - 37s 367ms/step - loss: 0.6752 - accuracy: 0.7382 - val_loss: 349.9871 - val_accuracy: 0.4268\n",
      "Epoch 135/150\n",
      "100/100 [==============================] - 36s 359ms/step - loss: 0.6978 - accuracy: 0.7272 - val_loss: 369.2924 - val_accuracy: 0.4510\n",
      "Epoch 136/150\n",
      "100/100 [==============================] - 37s 366ms/step - loss: 0.6968 - accuracy: 0.7332 - val_loss: 847.9687 - val_accuracy: 0.3776\n",
      "Epoch 137/150\n",
      "100/100 [==============================] - 38s 376ms/step - loss: 0.6479 - accuracy: 0.7545 - val_loss: 656.4098 - val_accuracy: 0.4185\n",
      "Epoch 138/150\n",
      "100/100 [==============================] - 38s 378ms/step - loss: 0.7331 - accuracy: 0.7170 - val_loss: 941.4492 - val_accuracy: 0.3949\n",
      "Epoch 139/150\n",
      "100/100 [==============================] - 39s 392ms/step - loss: 0.6766 - accuracy: 0.7477 - val_loss: 612.5355 - val_accuracy: 0.4164\n",
      "Epoch 140/150\n",
      "100/100 [==============================] - 37s 374ms/step - loss: 0.7188 - accuracy: 0.7247 - val_loss: 380.9234 - val_accuracy: 0.4189\n",
      "Epoch 141/150\n",
      "100/100 [==============================] - 39s 390ms/step - loss: 0.6537 - accuracy: 0.7484 - val_loss: 433.7574 - val_accuracy: 0.3751\n",
      "Epoch 142/150\n",
      "100/100 [==============================] - 36s 359ms/step - loss: 0.6999 - accuracy: 0.7316 - val_loss: 1124.4817 - val_accuracy: 0.4059\n",
      "Epoch 143/150\n",
      "100/100 [==============================] - 37s 367ms/step - loss: 0.6754 - accuracy: 0.7348 - val_loss: 360.6844 - val_accuracy: 0.3849\n",
      "Epoch 144/150\n",
      "100/100 [==============================] - 36s 362ms/step - loss: 0.6837 - accuracy: 0.7251 - val_loss: 947.0869 - val_accuracy: 0.4074\n",
      "Epoch 145/150\n",
      "100/100 [==============================] - 36s 363ms/step - loss: 0.6558 - accuracy: 0.7498 - val_loss: 470.7030 - val_accuracy: 0.4484\n",
      "Epoch 146/150\n",
      "100/100 [==============================] - 36s 356ms/step - loss: 0.6399 - accuracy: 0.7545 - val_loss: 295.8032 - val_accuracy: 0.4331\n",
      "Epoch 147/150\n",
      "100/100 [==============================] - 36s 358ms/step - loss: 0.6572 - accuracy: 0.7451 - val_loss: 480.1399 - val_accuracy: 0.4381\n",
      "Epoch 148/150\n",
      "100/100 [==============================] - 36s 362ms/step - loss: 0.6523 - accuracy: 0.7520 - val_loss: 631.9798 - val_accuracy: 0.4252\n",
      "Epoch 149/150\n",
      "100/100 [==============================] - 35s 354ms/step - loss: 0.6256 - accuracy: 0.7535 - val_loss: 766.7492 - val_accuracy: 0.3860\n",
      "Epoch 150/150\n",
      "100/100 [==============================] - 38s 379ms/step - loss: 0.6623 - accuracy: 0.7540 - val_loss: 574.3655 - val_accuracy: 0.4221\n"
     ]
    },
    {
     "data": {
      "text/plain": [
       "<keras.callbacks.callbacks.History at 0x22006821688>"
      ]
     },
     "execution_count": 18,
     "metadata": {},
     "output_type": "execute_result"
    }
   ],
   "source": [
    "model.fit_generator(x_train, steps_per_epoch =100, epochs = 150, validation_data = x_test, validation_steps = 63)"
   ]
  },
  {
   "cell_type": "markdown",
   "metadata": {},
   "source": [
    "Saving the model"
   ]
  },
  {
   "cell_type": "code",
   "execution_count": 19,
   "metadata": {},
   "outputs": [],
   "source": [
    "model.save(\"Skin_Diseases.h5\")"
   ]
  }
 ],
 "metadata": {
  "kernelspec": {
   "display_name": "Python 3",
   "language": "python",
   "name": "python3"
  },
  "language_info": {
   "codemirror_mode": {
    "name": "ipython",
    "version": 3
   },
   "file_extension": ".py",
   "mimetype": "text/x-python",
   "name": "python",
   "nbconvert_exporter": "python",
   "pygments_lexer": "ipython3",
   "version": "3.7.4"
  }
 },
 "nbformat": 4,
 "nbformat_minor": 2
}
